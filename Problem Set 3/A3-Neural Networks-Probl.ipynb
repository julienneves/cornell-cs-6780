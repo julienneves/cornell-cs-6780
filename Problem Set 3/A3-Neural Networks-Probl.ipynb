{
 "cells": [
  {
   "cell_type": "markdown",
   "metadata": {},
   "source": [
    "<font size=6>Problem 3</font>\n",
    "\n",
    "\n",
    "**Read the whole notebook and the TODO action items are given in <font color=blue>blue.</font>**\n",
    "\n",
    "First, let us import certain libraries that we will use in this notebook. To install these use `pip install <package>` or `conda install <package>` commands in terminal."
   ]
  },
  {
   "cell_type": "code",
   "execution_count": 1,
   "metadata": {},
   "outputs": [],
   "source": [
    "import numpy as np\n",
    "import matplotlib.pyplot as plt\n",
    "# let's you plot within the notebook\n",
    "%matplotlib inline "
   ]
  },
  {
   "cell_type": "code",
   "execution_count": 2,
   "metadata": {},
   "outputs": [],
   "source": [
    "import torch\n",
    "import torch.nn as nn\n",
    "from torch import optim"
   ]
  },
  {
   "cell_type": "markdown",
   "metadata": {},
   "source": [
    "Following are some functions to generate, plot, and evaluate the dataset. You can leave them unmodified."
   ]
  },
  {
   "cell_type": "code",
   "execution_count": 3,
   "metadata": {},
   "outputs": [],
   "source": [
    "def generate_planar_dataset_1():\n",
    "    m = 200 # number of examples\n",
    "    N = int(m/2) # number of points per class\n",
    "    D = 2 # dimensionality\n",
    "    X = np.zeros((m,D)) # data matrix where each row is a single example\n",
    "    Y = np.zeros((m,1), dtype=np.int) # labels vector (0 for red, 1 for blue)\n",
    "    a = 4 # maximum ray of the flower\n",
    "\n",
    "    for j in range(2):\n",
    "        ix = range(N*j,N*(j+1))\n",
    "        t = np.linspace(j*3.12,(j+1)*3.12,N) + np.random.randn(N)*0.2 # theta\n",
    "        r = a*np.sin(4*t) + np.random.randn(N)*0.2 # radius\n",
    "        X[ix] = np.c_[r*np.sin(t), r*np.cos(t)]\n",
    "        Y[ix] = -1 if j==0 else 1\n",
    "    X = X\n",
    "    Y = Y.T[0]\n",
    "    return X, Y"
   ]
  },
  {
   "cell_type": "code",
   "execution_count": 4,
   "metadata": {},
   "outputs": [],
   "source": [
    "def plot_decision_boundary(model, X, Y):\n",
    "    x_min, x_max = X[:, 0].min() - 1, X[:, 0].max() + 1\n",
    "    y_min, y_max = X[:, 1].min() - 1, X[:, 1].max() + 1\n",
    "    h = 0.01\n",
    "    # Generate a grid of points with distance h between them\n",
    "    xx, yy = np.meshgrid(np.arange(x_min, x_max, h), np.arange(y_min, y_max, h))\n",
    "    # Predict the function value for the whole grid\n",
    "    Z = model.predict(torch.FloatTensor(np.c_[xx.ravel(), yy.ravel()]))\n",
    "    Z = Z.reshape(xx.shape)\n",
    "    # Plot the contour and training examples\n",
    "    plt.contourf(xx, yy, Z, cmap=plt.cm.Spectral, alpha=0.5)\n",
    "    plt.ylabel('x2')\n",
    "    plt.xlabel('x1')\n",
    "    plt.scatter(X[:, 0], X[:, 1], c=Y, s=40,cmap=plt.cm.Spectral)\n",
    "    plt.show()"
   ]
  },
  {
   "cell_type": "code",
   "execution_count": 5,
   "metadata": {},
   "outputs": [],
   "source": [
    "def get_accuracy(model, X, true_labels):\n",
    "    return torch.mean((torch.squeeze(model.predict(X),1) == true_labels).float())"
   ]
  },
  {
   "cell_type": "markdown",
   "metadata": {},
   "source": [
    "The rest of the notebook is arranged into numbered sections:\n",
    "1. Models\n",
    "2. Datasets\n",
    "3. Training and Evaluation"
   ]
  },
  {
   "cell_type": "markdown",
   "metadata": {},
   "source": [
    "# Models\n",
    "In this section, we will define different Machine learning models using the torch library. Each model is defined as a python class with attributes corresponding to the weight parameters and the following functions:\n",
    "- forward: Given an input x, this function applies the weight parameters of the model to a real valued score\n",
    "- predict_probability: This function applies a sigmoid function to map the score to a probability representing P(y|x)\n",
    "- predict: This function maps the probability to one of the labels $\\{-1, +1\\}$."
   ]
  },
  {
   "cell_type": "markdown",
   "metadata": {},
   "source": [
    "## Logistic Regression as 1-layer NN"
   ]
  },
  {
   "cell_type": "markdown",
   "metadata": {},
   "source": [
    "We start with stating a simple logistic regression model as a 1-layer Neural network i.e. mapping the input to an output using a weight vector $w$"
   ]
  },
  {
   "cell_type": "code",
   "execution_count": 6,
   "metadata": {},
   "outputs": [],
   "source": [
    "class LogRegModel(nn.Module):\n",
    "    def __init__(self):\n",
    "        super(LogRegModel, self).__init__()\n",
    "        \"\"\"\n",
    "        a linear layer in torch.nn is a function from the input dimension (d=2 in our case)\n",
    "        to a 1-d score along with a bias term\n",
    "        \"\"\"\n",
    "        self.w = nn.Linear(2, 1, bias=True) \n",
    "        self.sigmoid = nn.Sigmoid()\n",
    "\n",
    "    def forward(self, x):\n",
    "        # transform the input using the weight vector: w^T x\n",
    "        return self.w(x)\n",
    "    \n",
    "    def predict_probability(self, x):\n",
    "        # convert the score to probability: 1/1+exp(-w^Tx)\n",
    "        return self.sigmoid(self.forward(x))\n",
    "    \n",
    "    def predict(self, x):\n",
    "        # map probability to a label in {-1,+1}\n",
    "        return 2 * (self.predict_probability(x).ge(0.5).float() - 0.5)"
   ]
  },
  {
   "cell_type": "markdown",
   "metadata": {},
   "source": [
    "## One-hidden-layer Neural Network "
   ]
  },
  {
   "cell_type": "markdown",
   "metadata": {},
   "source": [
    "Note that for a neural network with one hidden layer, we would have to create two weight vectors. Along with that we will also initialize an activation function. In our case, we will use a ReLU function which stands for Rectified Linear Unit and is defined as $max(0,x)$ to add non-linearity to the model."
   ]
  },
  {
   "cell_type": "code",
   "execution_count": 7,
   "metadata": {},
   "outputs": [],
   "source": [
    "class NNModel(nn.Module):\n",
    "    def __init__(self, hidden_layer=4):\n",
    "        super(NNModel, self).__init__()\n",
    "        self.w1 = nn.Linear(2, hidden_layer, bias=True)\n",
    "        # we use a ReLU activation function. However, you can try replacing it with other\n",
    "        # non-linear functions as well. \n",
    "        self.activation = nn.ReLU()\n",
    "        self.w2 = nn.Linear(hidden_layer, 1, bias=True)\n",
    "        self.sigmoid = nn.Sigmoid()\n",
    "\n",
    "    def forward(self, x):\n",
    "        # transform the input using the weight vectors and activation function\n",
    "        # corresponds to: w_2^T (ReLU(w_1^T x))\n",
    "        return self.w2(self.activation(self.w1(x)))\n",
    "        \n",
    "    def predict_probability(self, x):\n",
    "        # convert the score to probability\n",
    "        return self.sigmoid(self.forward(x))\n",
    "    \n",
    "    def predict(self, x): \n",
    "        # map probability to a label in {-1,+1}\n",
    "        return 2 * (self.predict_probability(x).ge(0.5).float() - 0.5)"
   ]
  },
  {
   "cell_type": "markdown",
   "metadata": {},
   "source": [
    "## 3-hidden-layer Neural Network"
   ]
  },
  {
   "cell_type": "markdown",
   "metadata": {},
   "source": [
    "Finally, we create a neural network model with three hidden layers. The number of hidden units (nodes) in each layer are given as an option to the initialization function."
   ]
  },
  {
   "cell_type": "markdown",
   "metadata": {},
   "source": [
    "<font color=blue size=4>*(i)* Complete the code for the forward function below to compute the output of the 3-layer neural network. Use the one hidden layer neural network implementation from above as a guidance. </font>\n"
   ]
  },
  {
   "cell_type": "code",
   "execution_count": 8,
   "metadata": {},
   "outputs": [],
   "source": [
    "class DeepNNModel(nn.Module):\n",
    "    def __init__(self, hidden_layers=[4,4,4], D=2):\n",
    "        super(DeepNNModel, self).__init__()\n",
    "        # in this case, we define 4 weight vectors for 3 layers. \n",
    "        self.w1 = nn.Linear(D, hidden_layers[0], bias=True)\n",
    "        self.w2 = nn.Linear(hidden_layers[0], hidden_layers[1], bias=True)\n",
    "        self.w3 = nn.Linear(hidden_layers[1], hidden_layers[2], bias=True)\n",
    "        self.w4 = nn.Linear(hidden_layers[2], 1, bias=True)\n",
    "        self.activation = nn.ReLU()\n",
    "        self.sigmoid = nn.Sigmoid()\n",
    "\n",
    "    def forward(self, x):\n",
    "        # successively apply the layers and activation function one after the other.\n",
    "        \"\"\"\n",
    "        FILL IN CODE HERE\n",
    "        \"\"\"\n",
    "        # return the final 1-d output\n",
    "        \n",
    "    def predict_probability(self, x):\n",
    "        return self.sigmoid(self.forward(x))\n",
    "    \n",
    "    def predict(self, x): \n",
    "        return 2 * (self.predict_probability(x).ge(0.5).float() - 0.5)"
   ]
  },
  {
   "cell_type": "markdown",
   "metadata": {},
   "source": [
    "# Datasets"
   ]
  },
  {
   "cell_type": "markdown",
   "metadata": {},
   "source": [
    "Now, let's construct three datasets: one where a linear separating hyperplane exists, and two where no linear separating hyperplanes exist. \n",
    "\n",
    "- Dataset 0: Two separable clusters\n",
    "- Dataset 1: Moons dataset\n",
    "- Dataset 2: Flower dataset\n"
   ]
  },
  {
   "cell_type": "markdown",
   "metadata": {},
   "source": [
    "## Dataset 0"
   ]
  },
  {
   "cell_type": "code",
   "execution_count": 10,
   "metadata": {},
   "outputs": [
    {
     "data": {
      "image/png": "[encoded data removed]",
      "text/plain": [
       "<Figure size 432x288 with 1 Axes>"
      ]
     },
     "metadata": {
      "needs_background": "light"
     },
     "output_type": "display_data"
    }
   ],
   "source": [
    "from sklearn.datasets import make_classification\n",
    "\n",
    "X0, Y0 = make_classification(n_features=2, n_redundant=0, n_informative=2,\n",
    "                           random_state=1, class_sep=1, n_clusters_per_class=1)\n",
    "plt.scatter(X0[:, 0], X0[:, 1], c=Y0, cmap=plt.cm.Spectral)\n",
    "X0 = torch.FloatTensor(X0)\n",
    "Y0 = torch.FloatTensor(Y0)\n",
    "Y0 = 2 * (Y0-0.5)\n",
    "plt.show()"
   ]
  },
  {
   "cell_type": "markdown",
   "metadata": {},
   "source": [
    "## Dataset 1"
   ]
  },
  {
   "cell_type": "code",
   "execution_count": 11,
   "metadata": {},
   "outputs": [
    {
     "data": {
      "image/png": "[encoded data removed]",
      "text/plain": [
       "<Figure size 432x288 with 1 Axes>"
      ]
     },
     "metadata": {
      "needs_background": "light"
     },
     "output_type": "display_data"
    }
   ],
   "source": [
    "from sklearn.datasets import make_moons\n",
    "X, Y = make_moons(n_samples=400, shuffle=False, noise=0.1)\n",
    "X = torch.FloatTensor(X)\n",
    "Y = torch.FloatTensor(Y)\n",
    "Y = 2 * (Y-0.5)\n",
    "# Visualize the data:\n",
    "plt.scatter(X[:, 0], X[:, 1], c=Y, s=40,cmap=plt.cm.Spectral);"
   ]
  },
  {
   "cell_type": "markdown",
   "metadata": {},
   "source": [
    "## Dataset 2"
   ]
  },
  {
   "cell_type": "code",
   "execution_count": 12,
   "metadata": {},
   "outputs": [
    {
     "data": {
      "image/png": "[encoded data removed]",
      "text/plain": [
       "<Figure size 432x288 with 1 Axes>"
      ]
     },
     "metadata": {
      "needs_background": "light"
     },
     "output_type": "display_data"
    }
   ],
   "source": [
    "X2, Y2 = generate_planar_dataset_1()\n",
    "X2 = torch.FloatTensor(X2)\n",
    "Y2 = torch.FloatTensor(Y2)\n",
    "# Visualize the data:\n",
    "plt.scatter(X2[:, 0], X2[:, 1], c=Y2, s=40,cmap=plt.cm.Spectral);"
   ]
  },
  {
   "cell_type": "markdown",
   "metadata": {},
   "source": [
    "# Training"
   ]
  },
  {
   "cell_type": "markdown",
   "metadata": {},
   "source": [
    "We will fix the number of epochs to 10. Epochs is the number of passes over the entire dataset.\n",
    "\n",
    "For training, we iterate over the entire dataset shuffled into a random order.\\\\\n",
    "\n",
    "For each step, we compute the loss function using torch operations (see below), and torch does the backpropagation magic i.e. computing the gradient and updating the variables. "
   ]
  },
  {
   "cell_type": "code",
   "execution_count": 13,
   "metadata": {},
   "outputs": [],
   "source": [
    "num_epochs = 10"
   ]
  },
  {
   "cell_type": "markdown",
   "metadata": {},
   "source": [
    "## Dataset 0"
   ]
  },
  {
   "cell_type": "markdown",
   "metadata": {},
   "source": [
    "Let's fit a few different linear classification models on this dataset"
   ]
  },
  {
   "cell_type": "markdown",
   "metadata": {},
   "source": [
    "### Training a Logistic Regression Model"
   ]
  },
  {
   "cell_type": "code",
   "execution_count": 14,
   "metadata": {},
   "outputs": [],
   "source": [
    "# Read the comments below to understand the code"
   ]
  },
  {
   "cell_type": "markdown",
   "metadata": {},
   "source": [
    "Notice that the loss function used below is the logistic loss and we train the LogRegModel using gradient descent. \n",
    "$$\n",
    "L(h_w| X,Y) = \\sum_{i=1}^N \\log\\left(1 + \\exp\\left(- y.h_w(x)\\right)\\right)\n",
    "$$"
   ]
  },
  {
   "cell_type": "code",
   "execution_count": 15,
   "metadata": {},
   "outputs": [],
   "source": [
    "model = LogRegModel()\n",
    "\n",
    "lr = 0.1\n",
    "\n",
    "# We use an Adam optimizer which updates the model parameters using the gradient \n",
    "# and some history of gradient information\n",
    "# You can try different values of the learning rate to see what effect they have on the output\n",
    "optimizer = optim.Adam(model.parameters(), lr=lr) \n",
    "\n",
    "for epoch in range(num_epochs):\n",
    "    indices = torch.randperm(len(Y0))\n",
    "    \n",
    "    for i in range(len(Y0)):\n",
    "        x, y = X0[indices[i]], Y0[indices[i]]\n",
    "        \n",
    "        optimizer.zero_grad() # first remove any previous gradients stored by the optimizer\n",
    "        loss = torch.log(1 + torch.exp(-y * model.forward(x))) # compute the loss -- using only torch variables.\n",
    "        loss.backward() # the backward function computes the gradient with respect to each model variable\n",
    "        optimizer.step() # the step function applies the gradient to the variables i.e. updates them"
   ]
  },
  {
   "cell_type": "markdown",
   "metadata": {},
   "source": [
    "Finally, we can visualize the output and also compute the accuracy on the training data"
   ]
  },
  {
   "cell_type": "code",
   "execution_count": 16,
   "metadata": {},
   "outputs": [
    {
     "name": "stdout",
     "output_type": "stream",
     "text": [
      "tensor(1.)\n"
     ]
    },
    {
     "data": {
      "image/png": "[encoded data removed]",
      "text/plain": [
       "<Figure size 432x288 with 1 Axes>"
      ]
     },
     "metadata": {
      "needs_background": "light"
     },
     "output_type": "display_data"
    }
   ],
   "source": [
    "print(get_accuracy(model,X0,Y0))\n",
    "plot_decision_boundary(model, X0, Y0)"
   ]
  },
  {
   "cell_type": "markdown",
   "metadata": {},
   "source": [
    "### Train a Regularized Logistic Regression"
   ]
  },
  {
   "cell_type": "markdown",
   "metadata": {},
   "source": [
    "<font color=blue size=4>*(ii)* Complete and run the code below.</font>"
   ]
  },
  {
   "cell_type": "markdown",
   "metadata": {},
   "source": [
    "Change the loss function from above to the following:\n",
    "$$\n",
    "L(h_w| X,Y) = \\sum_{i=1}^N \\log\\left(1 + \\exp\\left(- y.h_w(x)\\right)\\right) + \\lambda ||w||^2\n",
    "$$\n",
    "where $h_w$ is the value obtained after a forward pass through a linear model. \n",
    "\n",
    "You can use the function `torch.norm()` to compute the norm and attribute `model.w.weight` to access the parameters inside a model variable. "
   ]
  },
  {
   "cell_type": "code",
   "execution_count": null,
   "metadata": {
    "hide_input": false
   },
   "outputs": [],
   "source": [
    "lamda = 0.1 # regularization constant\n",
    "lr = 0.001\n",
    "\n",
    "model = LogRegModel()\n",
    "optimizer = optim.Adam(model.parameters(), lr=lr)\n",
    "for epoch in range(num_epochs):\n",
    "    indices = torch.randperm(len(Y0))\n",
    "    for i in range(len(Y0)):\n",
    "        x, y = X0[indices[i]], Y0[indices[i]]\n",
    "        optimizer.zero_grad()\n",
    "        \n",
    "        \"\"\"\n",
    "        ### TODO: FILL CODE HERE        \n",
    "        \"\"\"\n",
    "        \n",
    "        loss.backward()\n",
    "        optimizer.step()"
   ]
  },
  {
   "cell_type": "code",
   "execution_count": null,
   "metadata": {
    "hide_input": false
   },
   "outputs": [],
   "source": [
    "print(get_accuracy(model,X0,Y0))\n",
    "plot_decision_boundary(model, X0, Y0)"
   ]
  },
  {
   "cell_type": "markdown",
   "metadata": {},
   "source": [
    "### Train a linear model with a Hinge loss (SVM)"
   ]
  },
  {
   "cell_type": "markdown",
   "metadata": {},
   "source": [
    "To train the same linear model with a different objective, we just need to switch the loss function to a different loss. In this example, let's change the loss function to Hinge Loss:\n",
    "Change the loss function to the following:\n",
    "$$\n",
    "L(h_w| X,Y) = \\sum_{i=1}^N \\max(0, 1-y.h_w(x)) + \\lambda ||w||^2\n",
    "$$\n",
    "where $h_w$ is the value obtained after a forward pass."
   ]
  },
  {
   "cell_type": "markdown",
   "metadata": {},
   "source": [
    "<font color=blue size=4>*(iii)* Complete the code below to implement the above loss function</font>"
   ]
  },
  {
   "cell_type": "code",
   "execution_count": null,
   "metadata": {
    "scrolled": true
   },
   "outputs": [],
   "source": [
    "model = LogRegModel()\n",
    "optimizer = optim.Adam(model.parameters(), lr=0.01)\n",
    "for epoch in range(num_epochs):\n",
    "    indices = torch.randperm(len(Y0))\n",
    "    for i in range(len(Y0)):\n",
    "        x, y = X0[indices[i]], Y0[indices[i]]\n",
    "        optimizer.zero_grad()\n",
    "                \n",
    "        \"\"\"\n",
    "        ### TODO: FILL CODE HERE\n",
    "        \n",
    "        \"\"\"\n",
    "        loss.backward()\n",
    "        optimizer.step()"
   ]
  },
  {
   "cell_type": "code",
   "execution_count": null,
   "metadata": {
    "ExecuteTime": {
     "end_time": "2019-03-21T04:03:14.226268Z",
     "start_time": "2019-03-21T04:03:14.039961Z"
    },
    "scrolled": true
   },
   "outputs": [],
   "source": [
    "print(get_accuracy(model,X0,Y0))\n",
    "plot_decision_boundary(model, X0, Y0)"
   ]
  },
  {
   "cell_type": "markdown",
   "metadata": {},
   "source": [
    "## Dataset 1"
   ]
  },
  {
   "cell_type": "markdown",
   "metadata": {},
   "source": [
    "For the second dataset, we will fit a Regularized Logistic regression model, a one-layer Neural network, a 3-layer Neural network"
   ]
  },
  {
   "cell_type": "markdown",
   "metadata": {},
   "source": [
    "### Regularized Logistic Regression"
   ]
  },
  {
   "cell_type": "code",
   "execution_count": null,
   "metadata": {
    "scrolled": true
   },
   "outputs": [],
   "source": [
    "lamda = 0.1\n",
    "lr = 0.01\n",
    "\n",
    "model = LogRegModel()\n",
    "optimizer = optim.Adam(model.parameters(), lr=lr)\n",
    "for epoch in range(num_epochs):\n",
    "    indices = torch.randperm(len(Y))\n",
    "    for i in range(len(Y)):\n",
    "        x, y = X[indices[i]], Y[indices[i]]\n",
    "        optimizer.zero_grad()\n",
    "               \n",
    "        \"\"\"\n",
    "        FILL IN CODE HERE for regularized logistic loss from above\n",
    "        \"\"\"\n",
    "                \n",
    "        loss.backward()\n",
    "        optimizer.step()"
   ]
  },
  {
   "cell_type": "code",
   "execution_count": null,
   "metadata": {},
   "outputs": [],
   "source": [
    "print(get_accuracy(model,X,Y))\n",
    "plot_decision_boundary(model, X, Y)"
   ]
  },
  {
   "cell_type": "markdown",
   "metadata": {},
   "source": [
    "### One-hidden layer Neural Network\n",
    "Let's use the logistic loss for a neural network"
   ]
  },
  {
   "cell_type": "code",
   "execution_count": 17,
   "metadata": {
    "ExecuteTime": {
     "end_time": "2019-03-21T04:09:57.578156Z",
     "start_time": "2019-03-21T04:09:56.591240Z"
    },
    "scrolled": true
   },
   "outputs": [],
   "source": [
    "model = NNModel(hidden_layer=32)\n",
    "optimizer = optim.Adam(model.parameters(), lr=0.01)\n",
    "for epoch in range(num_epochs):\n",
    "    indices = torch.randperm(len(Y))\n",
    "    for i in range(len(Y)):\n",
    "        x, y = X[indices[i]], Y[indices[i]]\n",
    "        optimizer.zero_grad()\n",
    "        loss = torch.log(1 + torch.exp(-y * model(x))) # use the logistic loss for the neural networks\n",
    "        loss.backward()\n",
    "        optimizer.step()"
   ]
  },
  {
   "cell_type": "code",
   "execution_count": 18,
   "metadata": {
    "ExecuteTime": {
     "end_time": "2019-03-21T04:09:57.825676Z",
     "start_time": "2019-03-21T04:09:57.604706Z"
    }
   },
   "outputs": [
    {
     "name": "stdout",
     "output_type": "stream",
     "text": [
      "tensor(1.)\n"
     ]
    },
    {
     "data": {
      "image/png": "[encoded data removed]",
      "text/plain": [
       "<Figure size 432x288 with 1 Axes>"
      ]
     },
     "metadata": {
      "needs_background": "light"
     },
     "output_type": "display_data"
    }
   ],
   "source": [
    "print(get_accuracy(model,X,Y))\n",
    "plot_decision_boundary(model, X, Y)"
   ]
  },
  {
   "cell_type": "markdown",
   "metadata": {},
   "source": [
    "<font color=blue size=4>*(iii)* Visualize the decision boundary for hidden layers of sizes 2,3, and 4. You can try different values of the learning rate for the three sizes.</font>"
   ]
  },
  {
   "cell_type": "code",
   "execution_count": null,
   "metadata": {},
   "outputs": [],
   "source": []
  },
  {
   "cell_type": "code",
   "execution_count": null,
   "metadata": {},
   "outputs": [],
   "source": []
  },
  {
   "cell_type": "code",
   "execution_count": null,
   "metadata": {
    "ExecuteTime": {
     "end_time": "2019-03-21T04:10:40.422871Z",
     "start_time": "2019-03-21T04:10:35.129436Z"
    }
   },
   "outputs": [],
   "source": []
  },
  {
   "cell_type": "markdown",
   "metadata": {},
   "source": [
    "### 3-layer Neural network"
   ]
  },
  {
   "cell_type": "markdown",
   "metadata": {},
   "source": [
    "<font color=blue size=4>*(iv)* Write to code to train the 3-layer neural network (DeepNNModel) on Dataset 1 below. Fix the size of 16 for all three hidden layers. You can try different learning rates.</font>\n",
    "\n",
    "You should obtain a separating hyperplane similar to above. You can also tune the learning rate to get the best hyperplane."
   ]
  },
  {
   "cell_type": "code",
   "execution_count": null,
   "metadata": {
    "ExecuteTime": {
     "end_time": "2019-03-21T04:06:19.608755Z",
     "start_time": "2019-03-21T04:06:19.606201Z"
    }
   },
   "outputs": [],
   "source": [
    "\"\"\"\n",
    "Write code here\n",
    "\n",
    "\"\"\""
   ]
  },
  {
   "cell_type": "code",
   "execution_count": null,
   "metadata": {
    "ExecuteTime": {
     "end_time": "2019-03-21T04:06:22.295968Z",
     "start_time": "2019-03-21T04:06:22.029524Z"
    }
   },
   "outputs": [],
   "source": [
    "print(get_accuracy(model,X,Y))\n",
    "plot_decision_boundary(model, X, Y)"
   ]
  },
  {
   "cell_type": "markdown",
   "metadata": {},
   "source": [
    "## Dataset 2\n"
   ]
  },
  {
   "cell_type": "markdown",
   "metadata": {},
   "source": [
    "<font color=blue size=4>\n",
    "For the final dataset, complete the following:\n",
    "    \n",
    "*(v)* Train a Regularized Logistic Regression model for Dataset-2. Compute the accuracy and plot the decision boundary.\n",
    "\n",
    "*(vi)* Train a 1-hidden layer Neural Network model for Dataset-2 for hidden layer of size 32. Compute the accuracy and plot the decision boundary.\n",
    "\n",
    "*(vii)* Train a 1-hidden layer Neural Network model for Dataset-2 by varying hidden layer sizes from 2 to 16. For each size, run the training 5 times, compute the accuracy of each run. Plot the variation of average accuracy with hidden layer sizes. For each hidden layer size, also show the corresponding standard error as an error bar around the average, where $\\texttt{stderr} = \\sigma/\\sqrt{5}$, where $\\sigma$ is the standard deviation of the accuracies of 5 runs for a particular hidden layer size.\n",
    "\n",
    "*(viii)* Train a Neural Network model with 3-hidden layer for Dataset-2. Compute the accuracy and plot the decision boundary.\n",
    "\n",
    "*For all these parts, you can try different learning rates, number of epochs, and regularization parameter (for Regularized Logistic regression) to see what impact they have on the outcome.*\n",
    "</font>"
   ]
  },
  {
   "cell_type": "code",
   "execution_count": null,
   "metadata": {},
   "outputs": [],
   "source": []
  },
  {
   "cell_type": "code",
   "execution_count": null,
   "metadata": {},
   "outputs": [],
   "source": []
  },
  {
   "cell_type": "code",
   "execution_count": null,
   "metadata": {},
   "outputs": [],
   "source": []
  },
  {
   "cell_type": "markdown",
   "metadata": {},
   "source": [
    "<font size=4 color=blue> Once done, go to `File>Download as>PDF` to save the notebook as a PDF, attach it to the rest of your submission and submit alongside the assignment on Gradescope and CMS.</font> \n",
    "\n",
    "If for some reason saving as PDF doesnt work for you, save it as a HTML and try save/print as PDF in your computer browser. "
   ]
  },
  {
   "cell_type": "code",
   "execution_count": null,
   "metadata": {},
   "outputs": [],
   "source": []
  }
 ],
 "metadata": {
  "kernelspec": {
   "display_name": "Python 3",
   "language": "python",
   "name": "python3"
  },
  "language_info": {
   "codemirror_mode": {
    "name": "ipython",
    "version": 3
   },
   "file_extension": ".py",
   "mimetype": "text/x-python",
   "name": "python",
   "nbconvert_exporter": "python",
   "pygments_lexer": "ipython3",
   "version": "3.6.6"
  },
  "latex_envs": {
   "LaTeX_envs_menu_present": true,
   "autoclose": false,
   "autocomplete": true,
   "bibliofile": "biblio.bib",
   "cite_by": "apalike",
   "current_citInitial": 1,
   "eqLabelWithNumbers": true,
   "eqNumInitial": 1,
   "hotkeys": {
    "equation": "Ctrl-E",
    "itemize": "Ctrl-I"
   },
   "labels_anchors": false,
   "latex_user_defs": false,
   "report_style_numbering": false,
   "user_envs_cfg": false
  },
  "toc": {
   "base_numbering": 1,
   "nav_menu": {},
   "number_sections": true,
   "sideBar": true,
   "skip_h1_title": false,
   "title_cell": "Table of Contents",
   "title_sidebar": "Contents",
   "toc_cell": false,
   "toc_position": {},
   "toc_section_display": true,
   "toc_window_display": false
  },
  "varInspector": {
   "cols": {
    "lenName": 16,
    "lenType": 16,
    "lenVar": 40
   },
   "kernels_config": {
    "python": {
     "delete_cmd_postfix": "",
     "delete_cmd_prefix": "del ",
     "library": "var_list.py",
     "varRefreshCmd": "print(var_dic_list())"
    },
    "r": {
     "delete_cmd_postfix": ") ",
     "delete_cmd_prefix": "rm(",
     "library": "var_list.r",
     "varRefreshCmd": "cat(var_dic_list()) "
    }
   },
   "position": {
    "height": "722.5px",
    "left": "1130px",
    "right": "20px",
    "top": "120px",
    "width": "350px"
   },
   "types_to_exclude": [
    "module",
    "function",
    "builtin_function_or_method",
    "instance",
    "_Feature"
   ],
   "window_display": false
  }
 },
 "nbformat": 4,
 "nbformat_minor": 2
}
