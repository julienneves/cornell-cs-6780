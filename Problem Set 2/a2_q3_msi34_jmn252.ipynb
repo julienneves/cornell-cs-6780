{
 "cells": [
  {
   "cell_type": "code",
   "execution_count": 26,
   "metadata": {},
   "outputs": [
    {
     "ename": "NameError",
     "evalue": "name 'w_9' is not defined",
     "output_type": "error",
     "traceback": [
      "\u001b[1;31m---------------------------------------------------------------------------\u001b[0m",
      "\u001b[1;31mNameError\u001b[0m                                 Traceback (most recent call last)",
      "\u001b[1;32m<ipython-input-26-d7ba460ada2e>\u001b[0m in \u001b[0;36m<module>\u001b[1;34m\u001b[0m\n\u001b[0;32m     13\u001b[0m     \u001b[0mi\u001b[0m \u001b[1;33m=\u001b[0m \u001b[0mi\u001b[0m\u001b[1;33m+\u001b[0m\u001b[1;36m1\u001b[0m\u001b[1;33m\u001b[0m\u001b[1;33m\u001b[0m\u001b[0m\n\u001b[0;32m     14\u001b[0m \u001b[1;33m\u001b[0m\u001b[0m\n\u001b[1;32m---> 15\u001b[1;33m \u001b[0mw_9\u001b[0m\u001b[1;33m\u001b[0m\u001b[1;33m\u001b[0m\u001b[0m\n\u001b[0m\u001b[0;32m     16\u001b[0m \u001b[1;33m\u001b[0m\u001b[0m\n",
      "\u001b[1;31mNameError\u001b[0m: name 'w_9' is not defined"
     ]
    }
   ],
   "source": [
    "import numpy as np\n",
    "import scipy\n",
    "import sklearn\n",
    "import matplotlib.pyplot as plt\n",
    "%matplotlib inline\n",
    "\n",
    "X_train, y_train = sklearn.datasets.load_svmlight_file(\"train.txt\")\n",
    "\n",
    "\n"
   ]
  },
  {
   "cell_type": "code",
   "execution_count": 30,
   "metadata": {},
   "outputs": [],
   "source": [
    "def algorithm1(X,y,Imax,w_init,α):\n",
    "    w = w_init\n",
    "    i = 0\n",
    "    while i<Imax:\n",
    "        w_temp = 0\n",
    "        for j in range(X.shape[0]):\n",
    "            if y[j]*np.dot(w,X[j]) <=0:\n",
    "                w_temp = w_temp - y[j]*X[j]\n",
    "        w = w - α*w_temp\n",
    "        i = i +1\n",
    "    return w"
   ]
  },
  {
   "cell_type": "code",
   "execution_count": 31,
   "metadata": {},
   "outputs": [
    {
     "data": {
      "text/plain": [
       "array([1, 2])"
      ]
     },
     "execution_count": 31,
     "metadata": {},
     "output_type": "execute_result"
    }
   ],
   "source": [
    "Imax = 2000\n",
    "w0 = np.array([1.0,1.0])\n",
    "\n",
    "w_6 = algorithm1(X_train,y_train,Imax,w0,0.006)\n",
    "w_7 = algorithm1(X_train,y_train,Imax,w0,0.007)\n",
    "w_8 = algorithm1(X_train,y_train,Imax,w0,0.008)\n",
    "w_9 = algorithm1(X_train,y_train,Imax,w0,0.009)\n",
    "w_10 = algorithm1(X_train,y_train,Imax,w0,0.010)\n",
    "w_11 = algorithm1(X_train,y_train,Imax,w0,0.011)\n",
    "w_12 = algorithm1(X_train,y_train,Imax,w0,0.012)\n",
    "w_13 = algorithm1(X_train,y_train,Imax,w0,0.013)\n",
    "w_14 = algorithm1(X_train,y_train,Imax,w0,0.014)\n",
    "w_15 = algorithm1(X_train,y_train,Imax,w0,0.015)\n",
    "\n",
    "\n",
    "\n"
   ]
  }
 ],
 "metadata": {
  "kernelspec": {
   "display_name": "Python 3",
   "language": "python",
   "name": "python3"
  },
  "language_info": {
   "codemirror_mode": {
    "name": "ipython",
    "version": 3
   },
   "file_extension": ".py",
   "mimetype": "text/x-python",
   "name": "python",
   "nbconvert_exporter": "python",
   "pygments_lexer": "ipython3",
   "version": "3.7.2"
  }
 },
 "nbformat": 4,
 "nbformat_minor": 2
}
